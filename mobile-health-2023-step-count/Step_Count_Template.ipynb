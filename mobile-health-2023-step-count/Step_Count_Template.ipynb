{
 "cells": [
  {
   "cell_type": "code",
   "execution_count": 1,
   "metadata": {
    "collapsed": true,
    "pycharm": {
     "name": "#%%\n"
    }
   },
   "outputs": [],
   "source": [
    "# This is the template for the submission. If you want, you can develop your algorithm in a regular Python script and copy the code here for submission.\n",
    "\n",
    "# Team members (e-mail, legi):\n",
    "# examplestudent1@ethz.ch, 12-345-678\n",
    "# examplestudent2@ethz.ch, 12-345-679\n",
    "# examplestudent3@ethz.ch, 12-345-670"
   ]
  },
  {
   "cell_type": "code",
   "execution_count": null,
   "outputs": [],
   "source": [
    "import pandas as pd\n",
    "\n",
    "from Lilygo.Recording import Recording\n",
    "from Lilygo.Dataset import Dataset\n",
    "from os import listdir\n",
    "from os.path import isfile, join"
   ],
   "metadata": {
    "collapsed": false,
    "pycharm": {
     "name": "#%%\n"
    }
   }
  },
  {
   "cell_type": "code",
   "execution_count": null,
   "outputs": [],
   "source": [
    "# Get the path of all traces\n",
    "dir_traces = '/kaggle/input/mobile-health-2023-step-count/data/traces'\n",
    "filenames = [join(dir_traces, f) for f in listdir(dir_traces) if isfile(join(dir_traces, f))]\n",
    "filenames.sort()"
   ],
   "metadata": {
    "collapsed": false,
    "pycharm": {
     "name": "#%%\n"
    }
   }
  },
  {
   "cell_type": "code",
   "execution_count": null,
   "outputs": [],
   "source": [
    "# Loop through all traces and calculate the step count for each trace\n",
    "stepCounts = []\n",
    "ids = []\n",
    "for filename in filenames:\n",
    "    trace = Recording(filename, no_labels=True, mute=True)\n",
    "    stepCount = 0  # This is your variable of the step counting that you need to change\n",
    "\n",
    "    #\n",
    "    # Your algorithm goes here\n",
    "    # Make sure, you only use data from the LilyGo Wristband, namely the following 10 keys (as in trace.data[key]):\n",
    "    # 3-axis accelerometer: key in [ax, ay, az]\n",
    "    # 3-axis gyro: key in [gx, gy, gz]\n",
    "    # 3-axis magnetometer: key in [mx, my, mz]\n",
    "    # IMU temperature: key==temperature\n",
    "    #\n",
    "\n",
    "    # Append your calculated step counts and the id of the trace to the corresponding array\n",
    "    stepCounts.append(stepCount)\n",
    "    ids.append(filename.split('_')[1][:2])"
   ],
   "metadata": {
    "collapsed": false,
    "pycharm": {
     "name": "#%%\n"
    }
   }
  },
  {
   "cell_type": "code",
   "execution_count": null,
   "outputs": [],
   "source": [
    "# Write the detected step counts into a .csv file to then upload the .csv file to Kaggle\n",
    "# When cross-checking the .csv file on your computer, we recommend using the text editor and NOT excel so that the results are displayed correctly\n",
    "# IMPORTANT: Do NOT change the name of the columns ('Id' and 'Predicted') of the .csv file\n",
    "df = pd.DataFrame({'Id':ids,'Predicted':stepCounts})\n",
    "df.to_csv('/kaggle/working/submission.csv', index=False)"
   ],
   "metadata": {
    "collapsed": false,
    "pycharm": {
     "name": "#%%\n"
    }
   }
  }
 ],
 "metadata": {
  "kernelspec": {
   "display_name": "Python 3",
   "language": "python",
   "name": "python3"
  },
  "language_info": {
   "codemirror_mode": {
    "name": "ipython",
    "version": 2
   },
   "file_extension": ".py",
   "mimetype": "text/x-python",
   "name": "python",
   "nbconvert_exporter": "python",
   "pygments_lexer": "ipython2",
   "version": "2.7.6"
  }
 },
 "nbformat": 4,
 "nbformat_minor": 0
}